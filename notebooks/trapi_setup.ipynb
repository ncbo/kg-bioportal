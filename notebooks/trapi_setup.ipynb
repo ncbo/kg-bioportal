{
 "cells": [
  {
   "cell_type": "markdown",
   "id": "bf54bcd3-511a-4771-a763-5177d0ba34fd",
   "metadata": {},
   "source": [
    "# Setting up a test subgraph and TRAPI endpoint for KG-Bioportal"
   ]
  },
  {
   "cell_type": "markdown",
   "id": "1a6b4ea7",
   "metadata": {},
   "source": [
    "## Prepare subgraph for ontologies relevant to clinical data"
   ]
  },
  {
   "cell_type": "markdown",
   "id": "60e563ec",
   "metadata": {},
   "source": [
    "Load the set of ontologies to work with. This is defined in `clinical_ontologies.yaml`."
   ]
  },
  {
   "cell_type": "code",
   "execution_count": 1,
   "id": "38879a98",
   "metadata": {},
   "outputs": [],
   "source": [
    "import yaml"
   ]
  },
  {
   "cell_type": "code",
   "execution_count": 2,
   "id": "44ab5b49",
   "metadata": {},
   "outputs": [
    {
     "data": {
      "text/plain": [
       "['RADLEX', 'ATC']"
      ]
     },
     "execution_count": 2,
     "metadata": {},
     "output_type": "execute_result"
    }
   ],
   "source": [
    "test_ontologies = []\n",
    "with open ('clinical_ontologies.yaml', 'r') as infile:\n",
    "    ontologies_dict = yaml.safe_load(infile)\n",
    "\n",
    "for ontology in ontologies_dict['ontologies']:\n",
    "    try:\n",
    "        if ontology['test_set']:\n",
    "            test_ontologies.append(ontology['name'])\n",
    "    except KeyError:\n",
    "        continue\n",
    "\n",
    "test_ontologies"
   ]
  },
  {
   "cell_type": "markdown",
   "id": "9f9cd2f4",
   "metadata": {},
   "source": [
    "Now build a graph of these alone. This assumes that the transformed Bioportal graphs are in `../transformed/ontologies/` by default, "
   ]
  },
  {
   "cell_type": "code",
   "execution_count": 3,
   "id": "dcde626f",
   "metadata": {},
   "outputs": [],
   "source": [
    "test_ontologies_str = \",\".join(test_ontologies)"
   ]
  },
  {
   "cell_type": "code",
   "execution_count": 4,
   "id": "916ee4c6",
   "metadata": {},
   "outputs": [
    {
     "name": "stdout",
     "output_type": "stream",
     "text": [
      "/home/harry/kg-bioportal\n",
      "Validating RADLEX...\n",
      "Validating ATC...\n",
      "Merging KG files...\n",
      "  name: merged-kg \n",
      "  source: None \n",
      "  nodes: ['../transformed/ontologies/RADLEX/RADLEX_41_nodes.tsv', '../transformed/ontologies/ATC/ATC_17_nodes.tsv']\n",
      "  edges: ['blank_header.tsv', '../transformed/ontologies/RADLEX/RADLEX_41_edges.tsv', '../transformed/ontologies/ATC/ATC_17_edges.tsv'] \n",
      "  mappings: None\n",
      "  output_dir: data/merged\n",
      "\n",
      "Reading node and edge files\n",
      "Merging...\n",
      "Generating QC report\n",
      "['merged-kg_nodes.tsv', 'merged-kg_edges.tsv']\n",
      "Reading merged graph to process duplicates...\n",
      "Node count before removing complete duplicates: 53387\n",
      "Node count after removing complete duplicates: 46813\n",
      "/home/harry/kg-bioportal/kg_bioportal/merge_utils/merge_kg.py:217: FutureWarning: ['category', 'name', 'description'] did not aggregate successfully. If any error is raised this will raise in a future version of pandas. Drop these columns/ops to avoid this warning.\n",
      "  uniq_df = nodes_df.groupby('id').agg(lambda x: '|'.join(set(x)))\n",
      "Node count after merging duplicate nodes: 46813\n",
      "Complete.\n"
     ]
    }
   ],
   "source": [
    "%cd ../\n",
    "!python run.py catmerge --include_only {test_ontologies_str}"
   ]
  },
  {
   "cell_type": "markdown",
   "id": "f9d4e996",
   "metadata": {},
   "source": [
    "See how the result looks."
   ]
  },
  {
   "cell_type": "code",
   "execution_count": 5,
   "id": "29fb331c",
   "metadata": {},
   "outputs": [
    {
     "name": "stdout",
     "output_type": "stream",
     "text": [
      "merged-kg_nodes.tsv\n",
      "merged-kg_edges.tsv\n"
     ]
    }
   ],
   "source": [
    "!tar -xvzf data/merged/merged-kg.tar.gz"
   ]
  },
  {
   "cell_type": "code",
   "execution_count": 6,
   "id": "79ec57c7",
   "metadata": {},
   "outputs": [
    {
     "name": "stdout",
     "output_type": "stream",
     "text": [
      "id\tobject\tsubject\tpredicate\tcategory\tprovided_by\trelation\tprimary_knowledge_source\taggregator_knowledge_source\n",
      "urn:uuid:4e9885ae-7f97-494f-9aa6-0922c935743e\thttp://radlex.org/RID/RID15494\thttp://radlex.org/RID/RID15495\tbiolink:subclass_of\t\tRADLEX_41_edges\trdfs:subClassOf\tRadiology Lexicon - submission 41\tBioPortal 2022-07-20\n",
      "urn:uuid:f1784da5-75f5-47c9-b91b-8478123f522b\thttp://radlex.org/RID/RID40450\thttp://radlex.org/RID/RID40451\tbiolink:subclass_of\t\tRADLEX_41_edges\trdfs:subClassOf\tRadiology Lexicon - submission 41\tBioPortal 2022-07-20\n",
      "urn:uuid:24c0825e-c8e0-4492-b67f-5f8e5190c8e4\thttp://radlex.org/RID/RID9922\thttp://radlex.org/RID/RID39138\tbiolink:related_to\t\tRADLEX_41_edges\thttp://radlex.org/RID/Anatomical_Site\tRadiology Lexicon - submission 41\tBioPortal 2022-07-20\n",
      "urn:uuid:ee358cd9-2446-4901-a3f1-14fb88656e53\thttp://radlex.org/RID/RID22874\thttp://radlex.org/RID/RID44044\tbiolink:related_to\t\tRADLEX_41_edges\thttp://radlex.org/RID/Has_Regional_Part\tRadiology Lexicon - submission 41\tBioPortal 2022-07-20\n",
      "urn:uuid:c9496847-a458-4929-bb4c-8d1cedea7501\thttp://radlex.org/RID/RID39566\thttp://radlex.org/RID/RID39598\tbiolink:subclass_of\t\tRADLEX_41_edges\trdfs:subClassOf\tRadiology Lexicon - submission 41\tBioPortal 2022-07-20\n",
      "urn:uuid:d3221509-0ee6-4ef6-8c95-c3cb722adfc7\thttp://radlex.org/RID/RID23179\thttp://radlex.org/RID/RID47796\tbiolink:related_to\t\tRADLEX_41_edges\thttp://radlex.org/RID/Regional_Part_Of\tRadiology Lexicon - submission 41\tBioPortal 2022-07-20\n",
      "urn:uuid:309c7995-5c3c-4eda-9c94-15501813872e\thttp://radlex.org/RID/RID10111\thttp://radlex.org/RID/RID13303\tbiolink:related_to\t\tRADLEX_41_edges\thttp://radlex.org/RID/Has_Part\tRadiology Lexicon - submission 41\tBioPortal 2022-07-20\n",
      "urn:uuid:231cf2a6-f2e7-4bee-945b-bf0919280bba\thttp://radlex.org/RID/RID19539\thttp://radlex.org/RID/RID16860\tbiolink:related_to\t\tRADLEX_41_edges\thttp://radlex.org/RID/Has_Constitutional_Part\tRadiology Lexicon - submission 41\tBioPortal 2022-07-20\n",
      "urn:uuid:49579719-a996-4687-9c43-75b866e8dfda\thttp://radlex.org/RID/RID13299\thttp://radlex.org/RID/RID10040\tbiolink:subclass_of\t\tRADLEX_41_edges\trdfs:subClassOf\tRadiology Lexicon - submission 41\tBioPortal 2022-07-20\n"
     ]
    }
   ],
   "source": [
    "!head merged-kg_edges.tsv"
   ]
  },
  {
   "cell_type": "code",
   "execution_count": 7,
   "id": "8871d4d4",
   "metadata": {},
   "outputs": [
    {
     "name": "stdout",
     "output_type": "stream",
     "text": [
      "id\tprovided_by\n",
      "http://bioportal.bioontology.org/ontologies/umls/hasSTY\tATC_17_nodes\n",
      "http://purl.bioontology.org/ontology/STY/T099\tATC_17_nodes\n",
      "http://purl.bioontology.org/ontology/UATC/A09AA01\tATC_17_nodes\n",
      "http://purl.bioontology.org/ontology/UATC/A11EA\tATC_17_nodes\n",
      "http://purl.bioontology.org/ontology/UATC/ATC_LEVEL\tATC_17_nodes\n",
      "http://purl.bioontology.org/ontology/UATC/C03XA\tATC_17_nodes\n",
      "http://purl.bioontology.org/ontology/UATC/C10AX10\tATC_17_nodes\n",
      "http://purl.bioontology.org/ontology/UATC/D03BA03\tATC_17_nodes\n",
      "http://purl.bioontology.org/ontology/UATC/D05AD02\tATC_17_nodes\n"
     ]
    }
   ],
   "source": [
    "!head merged-kg_nodes.tsv"
   ]
  },
  {
   "cell_type": "markdown",
   "id": "76af035b",
   "metadata": {},
   "source": [
    "These didn't really get CURIE-d properly (an issue with the transform not using the expected prefix set) but let's go ahead anyway."
   ]
  },
  {
   "cell_type": "markdown",
   "id": "f7f789b5",
   "metadata": {},
   "source": [
    "## Set up and run Plater on its own"
   ]
  },
  {
   "cell_type": "markdown",
   "id": "9e2a8cdc",
   "metadata": {},
   "source": [
    "## Set up and run Automat"
   ]
  }
 ],
 "metadata": {
  "kernelspec": {
   "display_name": "Python 3 (ipykernel)",
   "language": "python",
   "name": "python3"
  },
  "language_info": {
   "codemirror_mode": {
    "name": "ipython",
    "version": 3
   },
   "file_extension": ".py",
   "mimetype": "text/x-python",
   "name": "python",
   "nbconvert_exporter": "python",
   "pygments_lexer": "ipython3",
   "version": "3.10.11"
  }
 },
 "nbformat": 4,
 "nbformat_minor": 5
}
