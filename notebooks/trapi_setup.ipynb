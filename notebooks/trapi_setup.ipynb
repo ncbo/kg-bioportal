{
 "cells": [
  {
   "cell_type": "markdown",
   "id": "bf54bcd3-511a-4771-a763-5177d0ba34fd",
   "metadata": {},
   "source": [
    "# Setting up a test subgraph and TRAPI endpoint for KG-Bioportal"
   ]
  },
  {
   "cell_type": "markdown",
   "id": "1a6b4ea7",
   "metadata": {},
   "source": [
    "## Prepare subgraph for ontologies relevant to clinical data"
   ]
  },
  {
   "cell_type": "markdown",
   "id": "60e563ec",
   "metadata": {},
   "source": [
    "Load the set of ontologies to work with. This is defined in `clinical_ontologies.yaml`."
   ]
  },
  {
   "cell_type": "code",
   "execution_count": 1,
   "id": "38879a98",
   "metadata": {},
   "outputs": [],
   "source": [
    "import yaml"
   ]
  },
  {
   "cell_type": "code",
   "execution_count": 9,
   "id": "44ab5b49",
   "metadata": {},
   "outputs": [
    {
     "data": {
      "text/plain": [
       "['RADLEX', 'ATC']"
      ]
     },
     "execution_count": 9,
     "metadata": {},
     "output_type": "execute_result"
    }
   ],
   "source": [
    "test_ontologies = []\n",
    "with open ('clinical_ontologies.yaml', 'r') as infile:\n",
    "    ontologies_dict = yaml.safe_load(infile)\n",
    "\n",
    "for ontology in ontologies_dict['ontologies']:\n",
    "    try:\n",
    "        if ontology['test_set']:\n",
    "            test_ontologies.append(ontology['name'])\n",
    "    except KeyError:\n",
    "        continue\n",
    "\n",
    "test_ontologies"
   ]
  },
  {
   "cell_type": "markdown",
   "id": "9f9cd2f4",
   "metadata": {},
   "source": [
    "Now build a graph of these alone. This assumes that the transformed Bioportal graphs are in `../transformed/ontologies/` by default, "
   ]
  },
  {
   "cell_type": "code",
   "execution_count": 17,
   "id": "dcde626f",
   "metadata": {},
   "outputs": [],
   "source": [
    "test_ontologies_str = \",\".join(test_ontologies)"
   ]
  },
  {
   "cell_type": "code",
   "execution_count": 6,
   "id": "916ee4c6",
   "metadata": {},
   "outputs": [
    {
     "name": "stdout",
     "output_type": "stream",
     "text": [
      "/home/harry\n",
      "python: can't open file '/home/harry/run.py': [Errno 2] No such file or directory\n"
     ]
    }
   ],
   "source": [
    "%cd ../\n",
    "!python run.py catmerge --include_only {test_ontologies_str}"
   ]
  },
  {
   "cell_type": "markdown",
   "id": "f7f789b5",
   "metadata": {},
   "source": [
    "## Set up and run Plater on its own"
   ]
  },
  {
   "cell_type": "markdown",
   "id": "9e2a8cdc",
   "metadata": {},
   "source": [
    "## Set up and run Automat"
   ]
  }
 ],
 "metadata": {
  "kernelspec": {
   "display_name": "Python 3 (ipykernel)",
   "language": "python",
   "name": "python3"
  },
  "language_info": {
   "codemirror_mode": {
    "name": "ipython",
    "version": 3
   },
   "file_extension": ".py",
   "mimetype": "text/x-python",
   "name": "python",
   "nbconvert_exporter": "python",
   "pygments_lexer": "ipython3",
   "version": "3.10.11"
  }
 },
 "nbformat": 4,
 "nbformat_minor": 5
}
